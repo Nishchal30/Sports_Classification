{
 "cells": [
  {
   "cell_type": "code",
   "execution_count": 1,
   "metadata": {},
   "outputs": [
    {
     "data": {
      "text/plain": [
       "'d:\\\\Deep_Learning_Projects\\\\Sports_Classification\\\\notebooks'"
      ]
     },
     "execution_count": 1,
     "metadata": {},
     "output_type": "execute_result"
    }
   ],
   "source": [
    "import os\n",
    "\n",
    "%pwd"
   ]
  },
  {
   "cell_type": "code",
   "execution_count": 2,
   "metadata": {},
   "outputs": [
    {
     "data": {
      "text/plain": [
       "'d:\\\\Deep_Learning_Projects\\\\Sports_Classification'"
      ]
     },
     "execution_count": 2,
     "metadata": {},
     "output_type": "execute_result"
    }
   ],
   "source": [
    "os.chdir(\"../\")\n",
    "%pwd"
   ]
  },
  {
   "cell_type": "code",
   "execution_count": 3,
   "metadata": {},
   "outputs": [
    {
     "name": "stdout",
     "output_type": "stream",
     "text": [
      "WARNING:tensorflow:From c:\\Users\\admin\\anaconda3\\envs\\sports_classification\\Lib\\site-packages\\keras\\src\\losses.py:2976: The name tf.losses.sparse_softmax_cross_entropy is deprecated. Please use tf.compat.v1.losses.sparse_softmax_cross_entropy instead.\n",
      "\n"
     ]
    }
   ],
   "source": [
    "import tensorflow as tf"
   ]
  },
  {
   "cell_type": "code",
   "execution_count": 4,
   "metadata": {},
   "outputs": [
    {
     "name": "stdout",
     "output_type": "stream",
     "text": [
      "WARNING:tensorflow:From c:\\Users\\admin\\anaconda3\\envs\\sports_classification\\Lib\\site-packages\\keras\\src\\backend.py:1398: The name tf.executing_eagerly_outside_functions is deprecated. Please use tf.compat.v1.executing_eagerly_outside_functions instead.\n",
      "\n",
      "WARNING:tensorflow:From c:\\Users\\admin\\anaconda3\\envs\\sports_classification\\Lib\\site-packages\\keras\\src\\layers\\pooling\\max_pooling2d.py:161: The name tf.nn.max_pool is deprecated. Please use tf.nn.max_pool2d instead.\n",
      "\n"
     ]
    }
   ],
   "source": [
    "model = tf.keras.models.load_model(\n",
    "    r\"D:\\Deep_Learning_Projects\\Sports_Classification\\artifacts\\model_training\\model.h5\"\n",
    ")"
   ]
  },
  {
   "cell_type": "code",
   "execution_count": 5,
   "metadata": {},
   "outputs": [],
   "source": [
    "from dataclasses import dataclass\n",
    "from pathlib import Path\n",
    "\n",
    "\n",
    "@dataclass(frozen=True)\n",
    "class ModelEvaluationConfig:\n",
    "    model_path: Path\n",
    "    training_data_path: Path\n",
    "    all_params: dict\n",
    "    mlflow_url: str\n",
    "    image_size: list\n",
    "    batch_size: int"
   ]
  },
  {
   "cell_type": "code",
   "execution_count": 6,
   "metadata": {},
   "outputs": [],
   "source": [
    "MLFLOW_TRACKING_URI=\"https://dagshub.com/Nishchal30/Sports_Classification.mlflow\" \n",
    "MLFLOW_TRACKING_USERNAME=\"Nishchal30\" \n",
    "MLFLOW_TRACKING_PASSWORD=\"9f254bffb4746366bc64fdd80421c69784022242\" \n",
    "# python script.py"
   ]
  },
  {
   "cell_type": "code",
   "execution_count": 7,
   "metadata": {},
   "outputs": [],
   "source": [
    "from src.Sports_Classification.Constants import *\n",
    "from src.Sports_Classification.utils.utils import *\n",
    "\n",
    "\n",
    "class ConfigurationManager:\n",
    "    def __init__(\n",
    "        self, config_filepath=CONFIG_FILE_PATH, params_filepath=PARAMS_FILE_PATH\n",
    "    ):\n",
    "\n",
    "        self.config = read_yaml(config_filepath)\n",
    "        self.params = read_yaml(params_filepath)\n",
    "\n",
    "        create_directories([self.config[\"artifacts_root\"]])\n",
    "\n",
    "    def get_evaluation_config(self) -> ModelEvaluationConfig:\n",
    "        eval_config = ModelEvaluationConfig(\n",
    "            model_path =r\"D:\\Deep_Learning_Projects\\Sports_Classification\\artifacts\\model_training\\model.h5\",\n",
    "            training_data_path=r\"D:\\Deep_Learning_Projects\\Sports_Classification\\artifacts\\data_ingestion\\data\\train\",\n",
    "            all_params=self.params,\n",
    "            mlflow_url=\"https://dagshub.com/Nishchal30/Sports_Classification.mlflow\",\n",
    "            image_size=self.params[\"IMAGE_SIZE\"],\n",
    "            batch_size=self.params[\"BATCH_SIZE\"],\n",
    "        )\n",
    "\n",
    "        return eval_config"
   ]
  },
  {
   "cell_type": "code",
   "execution_count": 8,
   "metadata": {},
   "outputs": [],
   "source": [
    "import mlflow\n",
    "import mlflow.keras\n",
    "from urllib.parse import urlparse"
   ]
  },
  {
   "cell_type": "code",
   "execution_count": 16,
   "metadata": {},
   "outputs": [],
   "source": [
    "class Model_Evaluation:\n",
    "\n",
    "    def __init__(self, config : ModelEvaluationConfig):\n",
    "        self.config = config\n",
    "\n",
    "    def train_valid_generator(self):\n",
    "\n",
    "        datagenerator_kwargs = dict(\n",
    "            rescale = 1/255,\n",
    "            validation_split = 0.2\n",
    "        )\n",
    "\n",
    "        dataflow_kwargs = dict(\n",
    "            target_size = self.config.image_size[:-1],\n",
    "            batch_size = self.config.batch_size,\n",
    "            interpolation = \"bilinear\"\n",
    "        )\n",
    "\n",
    "\n",
    "        valid_datagenerator = tf.keras.preprocessing.image.ImageDataGenerator(\n",
    "            **datagenerator_kwargs\n",
    "        )\n",
    "\n",
    "\n",
    "        self.valid_generator = valid_datagenerator.flow_from_directory(\n",
    "            directory = self.config.training_data_path,\n",
    "            subset = \"validation\",\n",
    "            shuffle = False,\n",
    "            **dataflow_kwargs\n",
    "        )\n",
    "\n",
    "\n",
    "    @staticmethod\n",
    "    def load_model(model_path : Path) -> tf.keras.Model:\n",
    "        return tf.keras.models.load_model(model_path)\n",
    "    \n",
    "\n",
    "    def eveluate_model(self):\n",
    "        self.model = self.load_model(self.config.model_path)\n",
    "        self.train_valid_generator()\n",
    "        self.score = self.model.evaluate(self.valid_generator)\n",
    "\n",
    "    def save_score(self):\n",
    "        scores = {\"loss\" : self.score[0], \"accuracy\" : self.score[1]}\n",
    "        save_json(path = Path(\"model_score.json\"), data = scores)\n",
    "\n",
    "\n",
    "    def log_into_mlflow(self):\n",
    "        mlflow.set_registry_uri(self.config.mlflow_url)\n",
    "        print(self.config.mlflow_url)\n",
    "        tracking_url = urlparse(mlflow.get_tracking_uri()).scheme\n",
    "        print(tracking_url)\n",
    "\n",
    "        with mlflow.start_run() as run:\n",
    "            mlflow.log_params(self.config.all_params)\n",
    "            mlflow.log_metrics({\"loss\" : self.score[0], \"accuracy\" : self.score[1]})\n",
    "\n",
    "            \n",
    "            if tracking_url != \"file\":\n",
    "                mlflow.keras.log_model(self.model, \"model\", registered_model_name=\"VGG16\")\n",
    "            else:\n",
    "                mlflow.keras.log_model(self.model,\"model\")"
   ]
  },
  {
   "cell_type": "code",
   "execution_count": 17,
   "metadata": {},
   "outputs": [
    {
     "name": "stdout",
     "output_type": "stream",
     "text": [
      "Found 77 images belonging to 80 classes.\n",
      "5/5 [==============================] - 15s 3s/step - loss: 9.3620 - accuracy: 0.0779\n"
     ]
    },
    {
     "name": "stderr",
     "output_type": "stream",
     "text": [
      "2024/03/03 12:00:45 WARNING mlflow.tensorflow: You are saving a TensorFlow Core model or Keras model without a signature. Inference with mlflow.pyfunc.spark_udf() will not work unless the model's pyfunc representation accepts pandas DataFrames as inference inputs.\n"
     ]
    },
    {
     "name": "stdout",
     "output_type": "stream",
     "text": [
      "https://dagshub.com/Nishchal30/Sports_Classification.mlflow\n",
      "file\n",
      "INFO:tensorflow:Assets written to: C:\\Users\\admin\\AppData\\Local\\Temp\\tmpd61kjml3\\model\\data\\model\\assets\n"
     ]
    }
   ],
   "source": [
    "try:\n",
    "    config = ConfigurationManager()\n",
    "    eval_config = config.get_evaluation_config()\n",
    "    evaluation = Model_Evaluation(eval_config)\n",
    "    evaluation.eveluate_model()\n",
    "    evaluation.log_into_mlflow()\n",
    "\n",
    "except Exception as e:\n",
    "    raise e"
   ]
  },
  {
   "cell_type": "code",
   "execution_count": null,
   "metadata": {},
   "outputs": [],
   "source": []
  }
 ],
 "metadata": {
  "kernelspec": {
   "display_name": "sports_classification",
   "language": "python",
   "name": "python3"
  },
  "language_info": {
   "codemirror_mode": {
    "name": "ipython",
    "version": 3
   },
   "file_extension": ".py",
   "mimetype": "text/x-python",
   "name": "python",
   "nbconvert_exporter": "python",
   "pygments_lexer": "ipython3",
   "version": "3.11.7"
  }
 },
 "nbformat": 4,
 "nbformat_minor": 2
}
