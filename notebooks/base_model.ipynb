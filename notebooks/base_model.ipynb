{
 "cells": [
  {
   "cell_type": "code",
   "execution_count": 1,
   "metadata": {},
   "outputs": [],
   "source": [
    "import os"
   ]
  },
  {
   "cell_type": "code",
   "execution_count": 2,
   "metadata": {},
   "outputs": [
    {
     "data": {
      "text/plain": [
       "'d:\\\\Deep_Learning_Projects\\\\Sports_Classification\\\\notebooks'"
      ]
     },
     "execution_count": 2,
     "metadata": {},
     "output_type": "execute_result"
    }
   ],
   "source": [
    "%pwd"
   ]
  },
  {
   "cell_type": "code",
   "execution_count": 3,
   "metadata": {},
   "outputs": [
    {
     "data": {
      "text/plain": [
       "'d:\\\\Deep_Learning_Projects\\\\Sports_Classification'"
      ]
     },
     "execution_count": 3,
     "metadata": {},
     "output_type": "execute_result"
    }
   ],
   "source": [
    "os.chdir(\"../\")\n",
    "%pwd"
   ]
  },
  {
   "cell_type": "code",
   "execution_count": 4,
   "metadata": {},
   "outputs": [],
   "source": [
    "from dataclasses import dataclass\n",
    "from pathlib import Path\n",
    "\n",
    "\n",
    "@dataclass(frozen=True)\n",
    "class BaseModelConfig:\n",
    "    root_dir : Path\n",
    "    base_model_path : Path\n",
    "    updated_base_model_path : Path\n",
    "    image_size_params : list\n",
    "    learning_rate_params : float\n",
    "    include_top_params : bool\n",
    "    weight_params : str\n",
    "    classes_params : int"
   ]
  },
  {
   "cell_type": "code",
   "execution_count": 5,
   "metadata": {},
   "outputs": [
    {
     "name": "stdout",
     "output_type": "stream",
     "text": [
      "logs\\02-24-2024-15-33-42.log\n"
     ]
    }
   ],
   "source": [
    "from src.Sports_Classification.Constants import *\n",
    "from src.Sports_Classification.utils.utils import *"
   ]
  },
  {
   "cell_type": "code",
   "execution_count": 30,
   "metadata": {},
   "outputs": [],
   "source": [
    "class ConfigurationManager:\n",
    "    def __init__(\n",
    "            self,\n",
    "            config_filepath = CONFIG_FILE_PATH,\n",
    "            params_filepath = PARAMS_FILE_PATH\n",
    "            ):\n",
    "        \n",
    "        self.config = read_yaml(config_filepath)\n",
    "        self.params = read_yaml(params_filepath)\n",
    "\n",
    "        create_directories([self.config[\"artifacts_root\"]])\n",
    "\n",
    "\n",
    "    def get_base_model(self) -> BaseModelConfig:\n",
    "        config = self.config['base_model']\n",
    "\n",
    "        create_directories([self.config['base_model']['root_dir']])\n",
    "\n",
    "        base_model_config = BaseModelConfig(\n",
    "            root_dir = Path(config['root_dir']),\n",
    "            base_model_path = Path(config['base_model_path']),\n",
    "            updated_base_model_path = Path(config['updated_base_model_path']),\n",
    "            image_size_params = self.params['IMAGE_SIZE'],\n",
    "            learning_rate_params = self.params['LEARNING_RATE'],\n",
    "            include_top_params = self.params['INCLUDE_TOP'],\n",
    "            weight_params = self.params['WEIGHTS'],\n",
    "            classes_params = self.params['CLASSES'] \n",
    "            )\n",
    "\n",
    "        return base_model_config"
   ]
  },
  {
   "cell_type": "code",
   "execution_count": 31,
   "metadata": {},
   "outputs": [],
   "source": [
    "import os, zipfile\n",
    "from src.Sports_Classification.logger import logging\n",
    "from src.Sports_Classification.exception import CustomException\n",
    "import urllib.request as request\n",
    "from src.Sports_Classification.utils.utils import *\n",
    "import tensorflow as tf"
   ]
  },
  {
   "cell_type": "code",
   "execution_count": 36,
   "metadata": {},
   "outputs": [],
   "source": [
    "class PrepareBaseModel:\n",
    "    def __init__(self, config : BaseModelConfig):\n",
    "        self.config = config\n",
    "\n",
    "\n",
    "    def create_base_model(self):\n",
    "        self.model = tf.keras.applications.vgg16.VGG16(\n",
    "            input_shape = self.config.image_size_params,\n",
    "            weights = self.config.weight_params,\n",
    "            include_top = self.config.include_top_params\n",
    "        )\n",
    "\n",
    "        self.save_model(path = self.config.base_model_path, model = self.model)\n",
    "\n",
    "    @staticmethod\n",
    "    def save_model(path : Path, model : tf.keras.Model):\n",
    "        model.save(path)\n",
    "\n",
    "    \n",
    "    @staticmethod\n",
    "    def create_full_model(learning_rate, freeze_all, freeze_till, classes, model):\n",
    "        if freeze_all is not None:\n",
    "            for layer in model.layers:\n",
    "                model.trainable = False\n",
    "        \n",
    "        elif (freeze_till is not None) and (freeze_till > 0):\n",
    "            for layer in model.layers[:freeze_till]:\n",
    "                model.trainable = False\n",
    "\n",
    "        flatten_in = tf.keras.layers.Flatten()(model.output)\n",
    "        prediction = tf.keras.layers.Dense(\n",
    "                        units=classes,\n",
    "                        activation=\"softmax\"\n",
    "                    )(flatten_in)\n",
    "\n",
    "        full_model = tf.keras.models.Model(\n",
    "            inputs=model.input,\n",
    "            outputs=prediction\n",
    "        )\n",
    "\n",
    "        full_model.compile(\n",
    "            optimizer=tf.keras.optimizers.SGD(learning_rate=learning_rate),\n",
    "            loss=tf.keras.losses.CategoricalCrossentropy(),\n",
    "            metrics=[\"accuracy\"]\n",
    "        )\n",
    "\n",
    "        full_model.summary()\n",
    "        return full_model\n",
    "    \n",
    "\n",
    "    def update_base_model(self):\n",
    "        self.full_model = self.create_full_model(\n",
    "            model=self.model,\n",
    "            classes=self.config.classes_params,\n",
    "            freeze_all=True,\n",
    "            freeze_till=None,\n",
    "            learning_rate=self.config.learning_rate_params\n",
    "        )\n",
    "\n",
    "        self.save_model(path=self.config.updated_base_model_path, model=self.full_model)\n"
   ]
  },
  {
   "cell_type": "code",
   "execution_count": 37,
   "metadata": {},
   "outputs": [
    {
     "name": "stdout",
     "output_type": "stream",
     "text": [
      "Model: \"model_2\"\n",
      "_________________________________________________________________\n",
      " Layer (type)                Output Shape              Param #   \n",
      "=================================================================\n",
      " input_11 (InputLayer)       [(None, 224, 224, 3)]     0         \n",
      "                                                                 \n",
      " block1_conv1 (Conv2D)       (None, 224, 224, 64)      1792      \n",
      "                                                                 \n",
      " block1_conv2 (Conv2D)       (None, 224, 224, 64)      36928     \n",
      "                                                                 \n",
      " block1_pool (MaxPooling2D)  (None, 112, 112, 64)      0         \n",
      "                                                                 \n",
      " block2_conv1 (Conv2D)       (None, 112, 112, 128)     73856     \n",
      "                                                                 \n",
      " block2_conv2 (Conv2D)       (None, 112, 112, 128)     147584    \n",
      "                                                                 \n",
      " block2_pool (MaxPooling2D)  (None, 56, 56, 128)       0         \n",
      "                                                                 \n",
      " block3_conv1 (Conv2D)       (None, 56, 56, 256)       295168    \n",
      "                                                                 \n",
      " block3_conv2 (Conv2D)       (None, 56, 56, 256)       590080    \n",
      "                                                                 \n",
      " block3_conv3 (Conv2D)       (None, 56, 56, 256)       590080    \n",
      "                                                                 \n",
      " block3_pool (MaxPooling2D)  (None, 28, 28, 256)       0         \n",
      "                                                                 \n",
      " block4_conv1 (Conv2D)       (None, 28, 28, 512)       1180160   \n",
      "                                                                 \n",
      " block4_conv2 (Conv2D)       (None, 28, 28, 512)       2359808   \n",
      "                                                                 \n",
      " block4_conv3 (Conv2D)       (None, 28, 28, 512)       2359808   \n",
      "                                                                 \n",
      " block4_pool (MaxPooling2D)  (None, 14, 14, 512)       0         \n",
      "                                                                 \n",
      " block5_conv1 (Conv2D)       (None, 14, 14, 512)       2359808   \n",
      "                                                                 \n",
      " block5_conv2 (Conv2D)       (None, 14, 14, 512)       2359808   \n",
      "                                                                 \n",
      " block5_conv3 (Conv2D)       (None, 14, 14, 512)       2359808   \n",
      "                                                                 \n",
      " block5_pool (MaxPooling2D)  (None, 7, 7, 512)         0         \n",
      "                                                                 \n",
      " flatten_5 (Flatten)         (None, 25088)             0         \n",
      "                                                                 \n",
      " dense_5 (Dense)             (None, 80)                2007120   \n",
      "                                                                 \n",
      "=================================================================\n",
      "Total params: 16721808 (63.79 MB)\n",
      "Trainable params: 2007120 (7.66 MB)\n",
      "Non-trainable params: 14714688 (56.13 MB)\n",
      "_________________________________________________________________\n"
     ]
    }
   ],
   "source": [
    "try:\n",
    "    config = ConfigurationManager()\n",
    "    base_model_config = config.get_base_model()\n",
    "    create_base_model = PrepareBaseModel(config=base_model_config)\n",
    "    create_base_model.create_base_model()\n",
    "    create_base_model.update_base_model()\n",
    "    \n",
    "except Exception as e:\n",
    "    raise CustomException(e, sys)"
   ]
  },
  {
   "cell_type": "markdown",
   "metadata": {},
   "source": []
  },
  {
   "cell_type": "code",
   "execution_count": null,
   "metadata": {},
   "outputs": [],
   "source": []
  }
 ],
 "metadata": {
  "kernelspec": {
   "display_name": "sports_classification",
   "language": "python",
   "name": "python3"
  },
  "language_info": {
   "codemirror_mode": {
    "name": "ipython",
    "version": 3
   },
   "file_extension": ".py",
   "mimetype": "text/x-python",
   "name": "python",
   "nbconvert_exporter": "python",
   "pygments_lexer": "ipython3",
   "version": "3.11.7"
  }
 },
 "nbformat": 4,
 "nbformat_minor": 2
}
