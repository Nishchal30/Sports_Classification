{
 "cells": [
  {
   "cell_type": "code",
   "execution_count": 1,
   "metadata": {},
   "outputs": [],
   "source": [
    "import os"
   ]
  },
  {
   "cell_type": "code",
   "execution_count": 2,
   "metadata": {},
   "outputs": [
    {
     "data": {
      "text/plain": [
       "'d:\\\\Deep_Learning_Projects\\\\Sports_Classification\\\\notebooks'"
      ]
     },
     "execution_count": 2,
     "metadata": {},
     "output_type": "execute_result"
    }
   ],
   "source": [
    "%pwd"
   ]
  },
  {
   "cell_type": "code",
   "execution_count": 3,
   "metadata": {},
   "outputs": [
    {
     "data": {
      "text/plain": [
       "'d:\\\\Deep_Learning_Projects\\\\Sports_Classification'"
      ]
     },
     "execution_count": 3,
     "metadata": {},
     "output_type": "execute_result"
    }
   ],
   "source": [
    "os.chdir(\"../\")\n",
    "%pwd"
   ]
  },
  {
   "cell_type": "code",
   "execution_count": 4,
   "metadata": {},
   "outputs": [],
   "source": [
    "from dataclasses import dataclass\n",
    "from pathlib import Path\n",
    "\n",
    "\n",
    "@dataclass(frozen=True)\n",
    "class BaseModelConfig:\n",
    "    root_dir : Path\n",
    "    base_model_path : Path\n",
    "    updated_base_model_path : Path\n",
    "    image_size_params : list\n",
    "    learning_rate_params : float\n",
    "    include_top_params : bool\n",
    "    weight_params : str\n",
    "    classes_params : int"
   ]
  },
  {
   "cell_type": "code",
   "execution_count": 6,
   "metadata": {},
   "outputs": [],
   "source": [
    "from src.Sports_Classification.Constants import *\n",
    "from src.Sports_Classification.utils.utils import *"
   ]
  },
  {
   "cell_type": "code",
   "execution_count": 7,
   "metadata": {},
   "outputs": [],
   "source": [
    "class ConfigurationManager:\n",
    "    def __init__(\n",
    "            self,\n",
    "            config_filepath = CONFIG_FILE_PATH,\n",
    "            params_filepath = PARAMS_FILE_PATH\n",
    "            ):\n",
    "        \n",
    "        self.config = read_yaml(config_filepath)\n",
    "        self.params = read_yaml(params_filepath)\n",
    "\n",
    "        create_directories([self.config[\"artifacts_root\"]])\n",
    "\n",
    "\n",
    "    def get_base_model(self) -> BaseModelConfig:\n",
    "        config = self.config['base_model']\n",
    "\n",
    "        create_directories([self.config['base_model']['root_dir']])\n",
    "\n",
    "        base_model_config = BaseModelConfig(\n",
    "            root_dir = Path(config['root_dir']),\n",
    "            base_model_path = Path(config['base_model_path']),\n",
    "            updated_base_model_path = Path(config['updated_base_model_path']),\n",
    "            image_size_params = self.params['IMAGE_SIZE'],\n",
    "            learning_rate_params = self.params['LEARNING_RATE'],\n",
    "            include_top_params = self.params['INCLUDE_TOP'],\n",
    "            weight_params = self.params['WEIGHTS'],\n",
    "            classes_params = self.params['CLASSES'] \n",
    "            )\n",
    "\n",
    "        return base_model_config"
   ]
  },
  {
   "cell_type": "code",
   "execution_count": 8,
   "metadata": {},
   "outputs": [],
   "source": [
    "import os, zipfile\n",
    "from src.Sports_Classification.logger import logging\n",
    "from src.Sports_Classification.exception import CustomException\n",
    "import urllib.request as request\n",
    "from src.Sports_Classification.utils.utils import *\n",
    "import tensorflow as tf"
   ]
  },
  {
   "cell_type": "code",
   "execution_count": 9,
   "metadata": {},
   "outputs": [
    {
     "ename": "SyntaxError",
     "evalue": "incomplete input (3557260670.py, line 6)",
     "output_type": "error",
     "traceback": [
      "\u001b[1;36m  Cell \u001b[1;32mIn[9], line 6\u001b[1;36m\u001b[0m\n\u001b[1;33m    def get_base_model(self):\u001b[0m\n\u001b[1;37m                             ^\u001b[0m\n\u001b[1;31mSyntaxError\u001b[0m\u001b[1;31m:\u001b[0m incomplete input\n"
     ]
    }
   ],
   "source": [
    "class PrepareBaseModel:\n",
    "    def __init__(self, config : BaseModelConfig):\n",
    "        self.config = config\n",
    "\n",
    "\n",
    "    def get_base_model(self):\n",
    "        self.model = tf.keras.applications.vgg16.VGG16(\n",
    "            input_shape = self.config.image_size_params,\n",
    "            weights = self.config.weight_params,\n",
    "            include_top = self.config.include_top_params\n",
    "        )\n",
    "\n",
    "        self.save_model(path = self.config.base_model_path, model = self.model)"
   ]
  },
  {
   "cell_type": "code",
   "execution_count": null,
   "metadata": {},
   "outputs": [],
   "source": []
  }
 ],
 "metadata": {
  "kernelspec": {
   "display_name": "sports_classification",
   "language": "python",
   "name": "python3"
  },
  "language_info": {
   "codemirror_mode": {
    "name": "ipython",
    "version": 3
   },
   "file_extension": ".py",
   "mimetype": "text/x-python",
   "name": "python",
   "nbconvert_exporter": "python",
   "pygments_lexer": "ipython3",
   "version": "3.11.7"
  }
 },
 "nbformat": 4,
 "nbformat_minor": 2
}
